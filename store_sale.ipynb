{
 "cells": [
  {
   "cell_type": "code",
   "execution_count": 13,
   "metadata": {},
   "outputs": [],
   "source": [
    "# Import denpendencies\n",
    "from pathlib import Path\n",
    "import pandas as pd\n",
    "import os"
   ]
  },
  {
   "cell_type": "code",
   "execution_count": 15,
   "metadata": {},
   "outputs": [
    {
     "name": "stdout",
     "output_type": "stream",
     "text": [
      "train loaded successfully.\n",
      "holidays_events loaded successfully.\n",
      "oil loaded successfully.\n",
      "stores loaded successfully.\n",
      "transactions loaded successfully.\n"
     ]
    }
   ],
   "source": [
    "# reading files in dataframe\n",
    "# create empty dictionary to hold data\n",
    "store_data = {}\n",
    "# define file paths\n",
    "# define file path\n",
    "file_paths = {\"train\":\"../Resources/test.csv\",\n",
    "            \"holidays_events\":\"../Resources/holidays_events.csv\",\n",
    "            \"oil\":\"../Resources/oil.csv\",\n",
    "            \"stores\":\"../Resources/stores.csv\",\n",
    "            \"transactions\":\"../Resources/transactions.csv\"}\n",
    "# read and store each file data in the store_data list.\n",
    "for data_file,relative_path in file_paths.items():\n",
    "    # create absolute path for each file\n",
    "    file_path = os.path.abspath(relative_path)\n",
    "    # read and store file in dictionary\n",
    "    try:\n",
    "        store_data[data_file] = pd.read_csv(file_path, low_memory=False)\n",
    "        print(f'{data_file} loaded successfully.')\n",
    "    except FileNotFoundError:\n",
    "        print(f\"Error: {data_file} not found.\")\n",
    "    except Exception as e:\n",
    "        print(f\"An error occured while loading data{e}\")\n",
    "    "
   ]
  }
 ],
 "metadata": {
  "kernelspec": {
   "display_name": "Python 3",
   "language": "python",
   "name": "python3"
  },
  "language_info": {
   "codemirror_mode": {
    "name": "ipython",
    "version": 3
   },
   "file_extension": ".py",
   "mimetype": "text/x-python",
   "name": "python",
   "nbconvert_exporter": "python",
   "pygments_lexer": "ipython3",
   "version": "3.11.4"
  }
 },
 "nbformat": 4,
 "nbformat_minor": 2
}
